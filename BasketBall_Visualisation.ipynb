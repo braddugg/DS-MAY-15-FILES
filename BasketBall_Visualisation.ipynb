{
  "nbformat": 4,
  "nbformat_minor": 0,
  "metadata": {
    "colab": {
      "name": "BasketBall Visualisation.ipynb",
      "provenance": [],
      "collapsed_sections": [],
      "authorship_tag": "ABX9TyPdIsA9S4f+wuIdCKDtKBO0",
      "include_colab_link": true
    },
    "kernelspec": {
      "name": "python3",
      "display_name": "Python 3"
    },
    "language_info": {
      "name": "python"
    }
  },
  "cells": [
    {
      "cell_type": "markdown",
      "metadata": {
        "id": "view-in-github",
        "colab_type": "text"
      },
      "source": [
        "<a href=\"https://colab.research.google.com/github/braddugg/DS-MAY-15-FILES/blob/main/BasketBall_Visualisation.ipynb\" target=\"_parent\"><img src=\"https://colab.research.google.com/assets/colab-badge.svg\" alt=\"Open In Colab\"/></a>"
      ]
    },
    {
      "cell_type": "code",
      "execution_count": 1,
      "metadata": {
        "id": "znYefAiZRh-W"
      },
      "outputs": [],
      "source": [
        "#Dear Student,\n",
        "#\n",
        "#Welcome to the world of Basketball Data!\n",
        "#I'm sure you will enjoy this section of the Python Programming course.\n",
        "#\n",
        "#Instructions for this dataset:\n",
        "# Simply copy ALL the lines in this script by pressing \n",
        "# CTRL+A on Windows or CMND+A on Mac and run the Jupyter cell\n",
        "# Once you have executed the commands the following objects\n",
        "# will be created:\n",
        "# Matrices:\n",
        "# - Salary\n",
        "# - Games\n",
        "# - MinutesPlayed\n",
        "# - FieldGoals\n",
        "# - FieldGoalAttempts\n",
        "# - Points\n",
        "# Lists:\n",
        "# - Players\n",
        "# - Seasons\n",
        "# Dictionaries:\n",
        "# - Sdict\n",
        "# - Pdict\n",
        "#We will understand these inside the course.\n",
        "#\n",
        "#Sincerely,\n",
        "#Kirill Eremenko\n",
        "#www.superdatascience.com\n",
        "\n",
        "#Copyright: These datasets were prepared using publicly available data.\n",
        "#           However, theses scripts are subject to Copyright Laws. \n",
        "#           If you wish to use these Python scripts outside of the Python Programming Course\n",
        "#           by Kirill Eremenko, you may do so by referencing www.superdatascience.com in your work.\n",
        "\n",
        "#Comments:\n",
        "#Seasons are labeled based on the first year in the season\n",
        "#E.g. the 2012-2013 season is preseneted as simply 2012\n",
        "\n",
        "#Notes and Corrections to the data:\n",
        "#Kevin Durant: 2006 - College Data Used\n",
        "#Kevin Durant: 2005 - Proxied With 2006 Data\n",
        "#Derrick Rose: 2012 - Did Not Play\n",
        "#Derrick Rose: 2007 - College Data Used\n",
        "#Derrick Rose: 2006 - Proxied With 2007 Data\n",
        "#Derrick Rose: 2005 - Proxied With 2007 Data\n",
        "\n",
        "#Import numpy\n",
        "import numpy as np\n",
        "\n",
        "#Seasons\n",
        "Seasons = [\"2005\",\"2006\",\"2007\",\"2008\",\"2009\",\"2010\",\"2011\",\"2012\",\"2013\",\"2014\"]\n",
        "Sdict = {\"2005\":0,\"2006\":1,\"2007\":2,\"2008\":3,\"2009\":4,\"2010\":5,\"2011\":6,\"2012\":7,\"2013\":8,\"2014\":9}\n",
        "\n",
        "#Players\n",
        "Players = [\"KobeBryant\",\"JoeJohnson\",\"LeBronJames\",\"CarmeloAnthony\",\"DwightHoward\",\"ChrisBosh\",\"ChrisPaul\",\"KevinDurant\",\"DerrickRose\",\"DwayneWade\"]\n",
        "Pdict = {\"KobeBryant\":0,\"JoeJohnson\":1,\"LeBronJames\":2,\"CarmeloAnthony\":3,\"DwightHoward\":4,\"ChrisBosh\":5,\"ChrisPaul\":6,\"KevinDurant\":7,\"DerrickRose\":8,\"DwayneWade\":9}\n",
        "\n",
        "#Salaries\n",
        "KobeBryant_Salary = [15946875,17718750,19490625,21262500,23034375,24806250,25244493,27849149,30453805,23500000]\n",
        "JoeJohnson_Salary = [12000000,12744189,13488377,14232567,14976754,16324500,18038573,19752645,21466718,23180790]\n",
        "LeBronJames_Salary = [4621800,5828090,13041250,14410581,15779912,14500000,16022500,17545000,19067500,20644400]\n",
        "CarmeloAnthony_Salary = [3713640,4694041,13041250,14410581,15779912,17149243,18518574,19450000,22407474,22458000]\n",
        "DwightHoward_Salary = [4493160,4806720,6061274,13758000,15202590,16647180,18091770,19536360,20513178,21436271]\n",
        "ChrisBosh_Salary = [3348000,4235220,12455000,14410581,15779912,14500000,16022500,17545000,19067500,20644400]\n",
        "ChrisPaul_Salary = [3144240,3380160,3615960,4574189,13520500,14940153,16359805,17779458,18668431,20068563]\n",
        "KevinDurant_Salary = [0,0,4171200,4484040,4796880,6053663,15506632,16669630,17832627,18995624]\n",
        "DerrickRose_Salary = [0,0,0,4822800,5184480,5546160,6993708,16402500,17632688,18862875]\n",
        "DwayneWade_Salary = [3031920,3841443,13041250,14410581,15779912,14200000,15691000,17182000,18673000,15000000]\n",
        "#Matrix\n",
        "Salary = np.array([KobeBryant_Salary, JoeJohnson_Salary, LeBronJames_Salary, CarmeloAnthony_Salary, DwightHoward_Salary, ChrisBosh_Salary, ChrisPaul_Salary, KevinDurant_Salary, DerrickRose_Salary, DwayneWade_Salary])\n",
        "\n",
        "#Games \n",
        "KobeBryant_G = [80,77,82,82,73,82,58,78,6,35]\n",
        "JoeJohnson_G = [82,57,82,79,76,72,60,72,79,80]\n",
        "LeBronJames_G = [79,78,75,81,76,79,62,76,77,69]\n",
        "CarmeloAnthony_G = [80,65,77,66,69,77,55,67,77,40]\n",
        "DwightHoward_G = [82,82,82,79,82,78,54,76,71,41]\n",
        "ChrisBosh_G = [70,69,67,77,70,77,57,74,79,44]\n",
        "ChrisPaul_G = [78,64,80,78,45,80,60,70,62,82]\n",
        "KevinDurant_G = [35,35,80,74,82,78,66,81,81,27]\n",
        "DerrickRose_G = [40,40,40,81,78,81,39,0,10,51]\n",
        "DwayneWade_G = [75,51,51,79,77,76,49,69,54,62]\n",
        "#Matrix\n",
        "Games = np.array([KobeBryant_G, JoeJohnson_G, LeBronJames_G, CarmeloAnthony_G, DwightHoward_G, ChrisBosh_G, ChrisPaul_G, KevinDurant_G, DerrickRose_G, DwayneWade_G])\n",
        "\n",
        "#Minutes Played\n",
        "KobeBryant_MP = [3277,3140,3192,2960,2835,2779,2232,3013,177,1207]\n",
        "JoeJohnson_MP = [3340,2359,3343,3124,2886,2554,2127,2642,2575,2791]\n",
        "LeBronJames_MP = [3361,3190,3027,3054,2966,3063,2326,2877,2902,2493]\n",
        "CarmeloAnthony_MP = [2941,2486,2806,2277,2634,2751,1876,2482,2982,1428]\n",
        "DwightHoward_MP = [3021,3023,3088,2821,2843,2935,2070,2722,2396,1223]\n",
        "ChrisBosh_MP = [2751,2658,2425,2928,2526,2795,2007,2454,2531,1556]\n",
        "ChrisPaul_MP = [2808,2353,3006,3002,1712,2880,2181,2335,2171,2857]\n",
        "KevinDurant_MP = [1255,1255,2768,2885,3239,3038,2546,3119,3122,913]\n",
        "DerrickRose_MP = [1168,1168,1168,3000,2871,3026,1375,0,311,1530]\n",
        "DwayneWade_MP = [2892,1931,1954,3048,2792,2823,1625,2391,1775,1971]\n",
        "#Matrix\n",
        "MinutesPlayed = np.array([KobeBryant_MP, JoeJohnson_MP, LeBronJames_MP, CarmeloAnthony_MP, DwightHoward_MP, ChrisBosh_MP, ChrisPaul_MP, KevinDurant_MP, DerrickRose_MP, DwayneWade_MP])\n",
        "\n",
        "#Field Goals\n",
        "KobeBryant_FG = [978,813,775,800,716,740,574,738,31,266]\n",
        "JoeJohnson_FG = [632,536,647,620,635,514,423,445,462,446]\n",
        "LeBronJames_FG = [875,772,794,789,768,758,621,765,767,624]\n",
        "CarmeloAnthony_FG = [756,691,728,535,688,684,441,669,743,358]\n",
        "DwightHoward_FG = [468,526,583,560,510,619,416,470,473,251]\n",
        "ChrisBosh_FG = [549,543,507,615,600,524,393,485,492,343]\n",
        "ChrisPaul_FG = [407,381,630,631,314,430,425,412,406,568]\n",
        "KevinDurant_FG = [306,306,587,661,794,711,643,731,849,238]\n",
        "DerrickRose_FG = [208,208,208,574,672,711,302,0,58,338]\n",
        "DwayneWade_FG = [699,472,439,854,719,692,416,569,415,509]\n",
        "#Matrix\n",
        "FieldGoals  = np.array([KobeBryant_FG, JoeJohnson_FG, LeBronJames_FG, CarmeloAnthony_FG, DwightHoward_FG, ChrisBosh_FG, ChrisPaul_FG, KevinDurant_FG, DerrickRose_FG, DwayneWade_FG])\n",
        "\n",
        "#Field Goal Attempts\n",
        "KobeBryant_FGA = [2173,1757,1690,1712,1569,1639,1336,1595,73,713]\n",
        "JoeJohnson_FGA = [1395,1139,1497,1420,1386,1161,931,1052,1018,1025]\n",
        "LeBronJames_FGA = [1823,1621,1642,1613,1528,1485,1169,1354,1353,1279]\n",
        "CarmeloAnthony_FGA = [1572,1453,1481,1207,1502,1503,1025,1489,1643,806]\n",
        "DwightHoward_FGA = [881,873,974,979,834,1044,726,813,800,423]\n",
        "ChrisBosh_FGA = [1087,1094,1027,1263,1158,1056,807,907,953,745]\n",
        "ChrisPaul_FGA = [947,871,1291,1255,637,928,890,856,870,1170]\n",
        "KevinDurant_FGA = [647,647,1366,1390,1668,1538,1297,1433,1688,467]\n",
        "DerrickRose_FGA = [436,436,436,1208,1373,1597,695,0,164,835]\n",
        "DwayneWade_FGA = [1413,962,937,1739,1511,1384,837,1093,761,1084]\n",
        "#Matrix\n",
        "FieldGoalAttempts = np.array([KobeBryant_FGA, JoeJohnson_FGA, LeBronJames_FGA, CarmeloAnthony_FGA, DwightHoward_FGA, ChrisBosh_FGA, ChrisPaul_FGA, KevinDurant_FGA, DerrickRose_FGA, DwayneWade_FGA])\n",
        "\n",
        "#Points\n",
        "KobeBryant_PTS = [2832,2430,2323,2201,1970,2078,1616,2133,83,782]\n",
        "JoeJohnson_PTS = [1653,1426,1779,1688,1619,1312,1129,1170,1245,1154]\n",
        "LeBronJames_PTS = [2478,2132,2250,2304,2258,2111,1683,2036,2089,1743]\n",
        "CarmeloAnthony_PTS = [2122,1881,1978,1504,1943,1970,1245,1920,2112,966]\n",
        "DwightHoward_PTS = [1292,1443,1695,1624,1503,1784,1113,1296,1297,646]\n",
        "ChrisBosh_PTS = [1572,1561,1496,1746,1678,1438,1025,1232,1281,928]\n",
        "ChrisPaul_PTS = [1258,1104,1684,1781,841,1268,1189,1186,1185,1564]\n",
        "KevinDurant_PTS = [903,903,1624,1871,2472,2161,1850,2280,2593,686]\n",
        "DerrickRose_PTS = [597,597,597,1361,1619,2026,852,0,159,904]\n",
        "DwayneWade_PTS = [2040,1397,1254,2386,2045,1941,1082,1463,1028,1331]\n",
        "#Matrix\n",
        "Points = np.array([KobeBryant_PTS, JoeJohnson_PTS, LeBronJames_PTS, CarmeloAnthony_PTS, DwightHoward_PTS, ChrisBosh_PTS, ChrisPaul_PTS, KevinDurant_PTS, DerrickRose_PTS, DwayneWade_PTS])             \n",
        "                  \n"
      ]
    },
    {
      "cell_type": "code",
      "source": [
        "Salary"
      ],
      "metadata": {
        "colab": {
          "base_uri": "https://localhost:8080/"
        },
        "id": "SKcU2jkMRyN6",
        "outputId": "c34ef0f1-7757-4a2d-ddd6-55918d8dfa98"
      },
      "execution_count": 2,
      "outputs": [
        {
          "output_type": "execute_result",
          "data": {
            "text/plain": [
              "array([[15946875, 17718750, 19490625, 21262500, 23034375, 24806250,\n",
              "        25244493, 27849149, 30453805, 23500000],\n",
              "       [12000000, 12744189, 13488377, 14232567, 14976754, 16324500,\n",
              "        18038573, 19752645, 21466718, 23180790],\n",
              "       [ 4621800,  5828090, 13041250, 14410581, 15779912, 14500000,\n",
              "        16022500, 17545000, 19067500, 20644400],\n",
              "       [ 3713640,  4694041, 13041250, 14410581, 15779912, 17149243,\n",
              "        18518574, 19450000, 22407474, 22458000],\n",
              "       [ 4493160,  4806720,  6061274, 13758000, 15202590, 16647180,\n",
              "        18091770, 19536360, 20513178, 21436271],\n",
              "       [ 3348000,  4235220, 12455000, 14410581, 15779912, 14500000,\n",
              "        16022500, 17545000, 19067500, 20644400],\n",
              "       [ 3144240,  3380160,  3615960,  4574189, 13520500, 14940153,\n",
              "        16359805, 17779458, 18668431, 20068563],\n",
              "       [       0,        0,  4171200,  4484040,  4796880,  6053663,\n",
              "        15506632, 16669630, 17832627, 18995624],\n",
              "       [       0,        0,        0,  4822800,  5184480,  5546160,\n",
              "         6993708, 16402500, 17632688, 18862875],\n",
              "       [ 3031920,  3841443, 13041250, 14410581, 15779912, 14200000,\n",
              "        15691000, 17182000, 18673000, 15000000]])"
            ]
          },
          "metadata": {},
          "execution_count": 2
        }
      ]
    },
    {
      "cell_type": "code",
      "source": [
        "Points"
      ],
      "metadata": {
        "colab": {
          "base_uri": "https://localhost:8080/"
        },
        "id": "WABEfB53TBuo",
        "outputId": "7e0b5c40-0789-488a-8870-f3a104927bb5"
      },
      "execution_count": 3,
      "outputs": [
        {
          "output_type": "execute_result",
          "data": {
            "text/plain": [
              "array([[2832, 2430, 2323, 2201, 1970, 2078, 1616, 2133,   83,  782],\n",
              "       [1653, 1426, 1779, 1688, 1619, 1312, 1129, 1170, 1245, 1154],\n",
              "       [2478, 2132, 2250, 2304, 2258, 2111, 1683, 2036, 2089, 1743],\n",
              "       [2122, 1881, 1978, 1504, 1943, 1970, 1245, 1920, 2112,  966],\n",
              "       [1292, 1443, 1695, 1624, 1503, 1784, 1113, 1296, 1297,  646],\n",
              "       [1572, 1561, 1496, 1746, 1678, 1438, 1025, 1232, 1281,  928],\n",
              "       [1258, 1104, 1684, 1781,  841, 1268, 1189, 1186, 1185, 1564],\n",
              "       [ 903,  903, 1624, 1871, 2472, 2161, 1850, 2280, 2593,  686],\n",
              "       [ 597,  597,  597, 1361, 1619, 2026,  852,    0,  159,  904],\n",
              "       [2040, 1397, 1254, 2386, 2045, 1941, 1082, 1463, 1028, 1331]])"
            ]
          },
          "metadata": {},
          "execution_count": 3
        }
      ]
    },
    {
      "cell_type": "code",
      "source": [
        "# MatrixName[row,column]\n",
        "\n",
        "Points[1,2]"
      ],
      "metadata": {
        "colab": {
          "base_uri": "https://localhost:8080/"
        },
        "id": "AzcoBMwRThkD",
        "outputId": "4059a972-6105-41ef-c073-5831ba662301"
      },
      "execution_count": 4,
      "outputs": [
        {
          "output_type": "execute_result",
          "data": {
            "text/plain": [
              "1779"
            ]
          },
          "metadata": {},
          "execution_count": 4
        }
      ]
    },
    {
      "cell_type": "code",
      "source": [
        "Points[-1,2]"
      ],
      "metadata": {
        "colab": {
          "base_uri": "https://localhost:8080/"
        },
        "id": "aLY35zYHTp06",
        "outputId": "c2e46bb9-26d1-410e-fe23-d1a66440868f"
      },
      "execution_count": 5,
      "outputs": [
        {
          "output_type": "execute_result",
          "data": {
            "text/plain": [
              "1254"
            ]
          },
          "metadata": {},
          "execution_count": 5
        }
      ]
    },
    {
      "cell_type": "code",
      "source": [
        "Pdict['KobeBryant']"
      ],
      "metadata": {
        "colab": {
          "base_uri": "https://localhost:8080/"
        },
        "id": "Uld0YwTTUQa6",
        "outputId": "fa02ae2f-1f04-4270-bab4-d8676f639182"
      },
      "execution_count": 6,
      "outputs": [
        {
          "output_type": "execute_result",
          "data": {
            "text/plain": [
              "0"
            ]
          },
          "metadata": {},
          "execution_count": 6
        }
      ]
    },
    {
      "cell_type": "code",
      "source": [
        "Points[Pdict['KobeBryant']][Sdict['2014']]"
      ],
      "metadata": {
        "colab": {
          "base_uri": "https://localhost:8080/"
        },
        "id": "cAmaGATLVTmm",
        "outputId": "bd7066da-bba7-44b7-9ff4-fa05861fc4d1"
      },
      "execution_count": 7,
      "outputs": [
        {
          "output_type": "execute_result",
          "data": {
            "text/plain": [
              "782"
            ]
          },
          "metadata": {},
          "execution_count": 7
        }
      ]
    },
    {
      "cell_type": "code",
      "source": [
        "FieldGoals"
      ],
      "metadata": {
        "colab": {
          "base_uri": "https://localhost:8080/"
        },
        "id": "yy_xSxDJVmtW",
        "outputId": "5700f3df-102b-427c-a377-95d092b3321b"
      },
      "execution_count": 8,
      "outputs": [
        {
          "output_type": "execute_result",
          "data": {
            "text/plain": [
              "array([[978, 813, 775, 800, 716, 740, 574, 738,  31, 266],\n",
              "       [632, 536, 647, 620, 635, 514, 423, 445, 462, 446],\n",
              "       [875, 772, 794, 789, 768, 758, 621, 765, 767, 624],\n",
              "       [756, 691, 728, 535, 688, 684, 441, 669, 743, 358],\n",
              "       [468, 526, 583, 560, 510, 619, 416, 470, 473, 251],\n",
              "       [549, 543, 507, 615, 600, 524, 393, 485, 492, 343],\n",
              "       [407, 381, 630, 631, 314, 430, 425, 412, 406, 568],\n",
              "       [306, 306, 587, 661, 794, 711, 643, 731, 849, 238],\n",
              "       [208, 208, 208, 574, 672, 711, 302,   0,  58, 338],\n",
              "       [699, 472, 439, 854, 719, 692, 416, 569, 415, 509]])"
            ]
          },
          "metadata": {},
          "execution_count": 8
        }
      ]
    },
    {
      "cell_type": "code",
      "source": [
        "Games"
      ],
      "metadata": {
        "colab": {
          "base_uri": "https://localhost:8080/"
        },
        "id": "cRhBAEvPWYND",
        "outputId": "c4724ac7-c890-49ba-9a1b-ea6ea93d6681"
      },
      "execution_count": 9,
      "outputs": [
        {
          "output_type": "execute_result",
          "data": {
            "text/plain": [
              "array([[80, 77, 82, 82, 73, 82, 58, 78,  6, 35],\n",
              "       [82, 57, 82, 79, 76, 72, 60, 72, 79, 80],\n",
              "       [79, 78, 75, 81, 76, 79, 62, 76, 77, 69],\n",
              "       [80, 65, 77, 66, 69, 77, 55, 67, 77, 40],\n",
              "       [82, 82, 82, 79, 82, 78, 54, 76, 71, 41],\n",
              "       [70, 69, 67, 77, 70, 77, 57, 74, 79, 44],\n",
              "       [78, 64, 80, 78, 45, 80, 60, 70, 62, 82],\n",
              "       [35, 35, 80, 74, 82, 78, 66, 81, 81, 27],\n",
              "       [40, 40, 40, 81, 78, 81, 39,  0, 10, 51],\n",
              "       [75, 51, 51, 79, 77, 76, 49, 69, 54, 62]])"
            ]
          },
          "metadata": {},
          "execution_count": 9
        }
      ]
    },
    {
      "cell_type": "code",
      "source": [
        "FieldGoals/Games"
      ],
      "metadata": {
        "colab": {
          "base_uri": "https://localhost:8080/"
        },
        "id": "Rce9jFeFWaAt",
        "outputId": "ef6822ba-60a3-45cd-8fc0-29e16fad15a9"
      },
      "execution_count": 10,
      "outputs": [
        {
          "output_type": "stream",
          "name": "stderr",
          "text": [
            "/usr/local/lib/python3.7/dist-packages/ipykernel_launcher.py:1: RuntimeWarning: invalid value encountered in true_divide\n",
            "  \"\"\"Entry point for launching an IPython kernel.\n"
          ]
        },
        {
          "output_type": "execute_result",
          "data": {
            "text/plain": [
              "array([[12.225     , 10.55844156,  9.45121951,  9.75609756,  9.80821918,\n",
              "         9.02439024,  9.89655172,  9.46153846,  5.16666667,  7.6       ],\n",
              "       [ 7.70731707,  9.40350877,  7.8902439 ,  7.84810127,  8.35526316,\n",
              "         7.13888889,  7.05      ,  6.18055556,  5.84810127,  5.575     ],\n",
              "       [11.07594937,  9.8974359 , 10.58666667,  9.74074074, 10.10526316,\n",
              "         9.59493671, 10.01612903, 10.06578947,  9.96103896,  9.04347826],\n",
              "       [ 9.45      , 10.63076923,  9.45454545,  8.10606061,  9.97101449,\n",
              "         8.88311688,  8.01818182,  9.98507463,  9.64935065,  8.95      ],\n",
              "       [ 5.70731707,  6.41463415,  7.1097561 ,  7.08860759,  6.2195122 ,\n",
              "         7.93589744,  7.7037037 ,  6.18421053,  6.66197183,  6.12195122],\n",
              "       [ 7.84285714,  7.86956522,  7.56716418,  7.98701299,  8.57142857,\n",
              "         6.80519481,  6.89473684,  6.55405405,  6.2278481 ,  7.79545455],\n",
              "       [ 5.21794872,  5.953125  ,  7.875     ,  8.08974359,  6.97777778,\n",
              "         5.375     ,  7.08333333,  5.88571429,  6.5483871 ,  6.92682927],\n",
              "       [ 8.74285714,  8.74285714,  7.3375    ,  8.93243243,  9.68292683,\n",
              "         9.11538462,  9.74242424,  9.02469136, 10.48148148,  8.81481481],\n",
              "       [ 5.2       ,  5.2       ,  5.2       ,  7.08641975,  8.61538462,\n",
              "         8.77777778,  7.74358974,         nan,  5.8       ,  6.62745098],\n",
              "       [ 9.32      ,  9.25490196,  8.60784314, 10.81012658,  9.33766234,\n",
              "         9.10526316,  8.48979592,  8.24637681,  7.68518519,  8.20967742]])"
            ]
          },
          "metadata": {},
          "execution_count": 10
        }
      ]
    },
    {
      "cell_type": "code",
      "source": [
        "import numpy as np"
      ],
      "metadata": {
        "id": "2B_MTdlPWc3-"
      },
      "execution_count": 11,
      "outputs": []
    },
    {
      "cell_type": "code",
      "source": [
        "import matplotlib.pyplot as plt\n",
        "%matplotlib inline"
      ],
      "metadata": {
        "id": "fOKisj7KYcaC"
      },
      "execution_count": 12,
      "outputs": []
    },
    {
      "cell_type": "code",
      "source": [
        "#package.function(dataframe/matrixname)\n",
        "\n",
        "plt.plot(Salary[0])"
      ],
      "metadata": {
        "colab": {
          "base_uri": "https://localhost:8080/",
          "height": 293
        },
        "id": "TjrsTry2YlQI",
        "outputId": "bf0a9f47-b178-4be6-e855-a8e40f75fb5c"
      },
      "execution_count": 13,
      "outputs": [
        {
          "output_type": "execute_result",
          "data": {
            "text/plain": [
              "[<matplotlib.lines.Line2D at 0x7f2888706950>]"
            ]
          },
          "metadata": {},
          "execution_count": 13
        },
        {
          "output_type": "display_data",
          "data": {
            "text/plain": [
              "<Figure size 432x288 with 1 Axes>"
            ],
            "image/png": "[encoded data removed]"
          },
          "metadata": {
            "needs_background": "light"
          }
        }
      ]
    },
    {
      "cell_type": "code",
      "source": [
        "plt.plot(Salary[0], c = 'Green', ls = '--', marker = 's', ms = '7')\n",
        "plt.show()"
      ],
      "metadata": {
        "colab": {
          "base_uri": "https://localhost:8080/",
          "height": 276
        },
        "id": "nVaIWwnIY7s_",
        "outputId": "6765ff57-6882-4674-ae68-0d975e32506d"
      },
      "execution_count": 14,
      "outputs": [
        {
          "output_type": "display_data",
          "data": {
            "text/plain": [
              "<Figure size 432x288 with 1 Axes>"
            ],
            "image/png": "[encoded data removed]"
          },
          "metadata": {
            "needs_background": "light"
          }
        }
      ]
    },
    {
      "cell_type": "code",
      "source": [
        ""
      ],
      "metadata": {
        "id": "7tgGh9a-ZztY"
      },
      "execution_count": 14,
      "outputs": []
    },
    {
      "cell_type": "code",
      "source": [
        "plt.plot(Salary[0], c = 'Green', ls = '--', marker = 's', ms = '7')\n",
        "plt.rcParams['figure.figsize'] = 10,5\n",
        "plt.xticks(list(range(0,10)), Seasons, rotation = 'vertical')\n",
        "plt.show()"
      ],
      "metadata": {
        "colab": {
          "base_uri": "https://localhost:8080/",
          "height": 292
        },
        "id": "k5AfqatqbBlX",
        "outputId": "8eedebab-6a57-4999-c27a-67bcbb5b90dd"
      },
      "execution_count": 15,
      "outputs": [
        {
          "output_type": "display_data",
          "data": {
            "text/plain": [
              "<Figure size 432x288 with 1 Axes>"
            ],
            "image/png": "[encoded data removed]"
          },
          "metadata": {
            "needs_background": "light"
          }
        }
      ]
    },
    {
      "cell_type": "code",
      "source": [
        "plt.plot(Salary[0], c = 'Green', ls = '--', marker = 's', ms = '7', label = Players[0])\n",
        "plt.plot(Salary[1], c = 'Blue', ls = '--', marker = 'o', ms = '7', label = Players[1])\n",
        "plt.plot(Salary[2], c = 'Red', ls = '--', marker = '^', ms = '7', label = Players[2])\n",
        "plt.rcParams['figure.figsize'] = 10,5\n",
        "plt.legend(loc= 'upper left', bbox_to_anchor = (1,1))\n",
        "plt.xticks(list(range(0,10)), Seasons, rotation = 'vertical')\n",
        "plt.show()"
      ],
      "metadata": {
        "colab": {
          "base_uri": "https://localhost:8080/",
          "height": 346
        },
        "id": "hFtVleDLbShn",
        "outputId": "273305f6-f094-4602-fa99-53f5d8f3d4b4"
      },
      "execution_count": 16,
      "outputs": [
        {
          "output_type": "display_data",
          "data": {
            "text/plain": [
              "<Figure size 720x360 with 1 Axes>"
            ],
            "image/png": "[encoded data removed]"
          },
          "metadata": {
            "needs_background": "light"
          }
        }
      ]
    },
    {
      "cell_type": "code",
      "source": [
        "##SALARIES OF ALL PLAYERS\n",
        "\n",
        "plt.plot(Salary[0], c = 'Green', ls ='--', marker = 's', ms = '7', label = Players[0])\n",
        "plt.plot(Salary[1], c = 'Blue', ls ='--', marker = 'o', ms = '7', label = Players[1])\n",
        "plt.plot(Salary[2], c = 'Red', ls ='--', marker = '^', ms = '7', label = Players[2])\n",
        "plt.plot(Salary[3], c = 'Black', ls ='--', marker = 'D', ms = '7', label = Players[3])\n",
        "plt.plot(Salary[4], c = 'Magenta', ls ='--', marker = 's', ms = '7', label = Players[4])\n",
        "plt.plot(Salary[5], c = 'Yellow', ls ='--', marker = 'o', ms = '7', label = Players[5])\n",
        "plt.plot(Salary[6], c = 'Red', ls ='--', marker = 'D', ms = '7', label = Players[6])\n",
        "plt.plot(Salary[7], c = 'Blue', ls ='--', marker = '^', ms = '7', label = Players[7])\n",
        "plt.plot(Salary[8], c = 'Green', ls ='--', marker = 'o', ms = '7', label = Players[8])\n",
        "plt.plot(Salary[9], c = 'Black', ls ='--', marker = 'D', ms = '7', label = Players[9])\n",
        "plt.rcParams['figure.figsize'] = 8,4\n",
        "plt.legend(loc='upper left', bbox_to_anchor=(1,1))\n",
        "plt.xticks(list(range(0,10)), Seasons, rotation='vertical')\n",
        "plt.show()"
      ],
      "metadata": {
        "id": "vHvN7TKEfAlu"
      },
      "execution_count": 16,
      "outputs": []
    },
    {
      "cell_type": "code",
      "source": [
        ""
      ],
      "metadata": {
        "id": "Hg5y-tp5e9aT"
      },
      "execution_count": 16,
      "outputs": []
    },
    {
      "cell_type": "code",
      "source": [
        ""
      ],
      "metadata": {
        "id": "ENNnoybPe39R"
      },
      "execution_count": 16,
      "outputs": []
    },
    {
      "cell_type": "code",
      "source": [
        ""
      ],
      "metadata": {
        "id": "mNzObWyfeZNA"
      },
      "execution_count": 16,
      "outputs": []
    },
    {
      "cell_type": "code",
      "source": [
        ""
      ],
      "metadata": {
        "id": "2TNHI9UzeBpT"
      },
      "execution_count": 16,
      "outputs": []
    },
    {
      "cell_type": "code",
      "source": [
        ""
      ],
      "metadata": {
        "id": "gxNdhebidhkS"
      },
      "execution_count": 16,
      "outputs": []
    },
    {
      "cell_type": "code",
      "source": [
        ""
      ],
      "metadata": {
        "id": "ccSla0b0dI23"
      },
      "execution_count": 16,
      "outputs": []
    },
    {
      "cell_type": "code",
      "source": [
        ""
      ],
      "metadata": {
        "id": "m8DG8szXc8mJ"
      },
      "execution_count": 16,
      "outputs": []
    },
    {
      "cell_type": "code",
      "source": [
        ""
      ],
      "metadata": {
        "id": "1vST-mN6bNe-"
      },
      "execution_count": 16,
      "outputs": []
    },
    {
      "cell_type": "code",
      "source": [
        ""
      ],
      "metadata": {
        "id": "tTa604b1a8Zm"
      },
      "execution_count": 16,
      "outputs": []
    },
    {
      "cell_type": "code",
      "source": [
        ""
      ],
      "metadata": {
        "id": "m1mlMPLnauRQ"
      },
      "execution_count": 16,
      "outputs": []
    },
    {
      "cell_type": "code",
      "source": [
        ""
      ],
      "metadata": {
        "id": "os-9fV2_arDq"
      },
      "execution_count": 16,
      "outputs": []
    },
    {
      "cell_type": "code",
      "source": [
        ""
      ],
      "metadata": {
        "id": "kHaDAl3UaliH"
      },
      "execution_count": 16,
      "outputs": []
    },
    {
      "cell_type": "code",
      "source": [
        ""
      ],
      "metadata": {
        "id": "FMY3KGTEZxfT"
      },
      "execution_count": 16,
      "outputs": []
    }
  ]
}